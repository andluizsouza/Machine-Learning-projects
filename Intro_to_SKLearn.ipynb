{
  "nbformat": 4,
  "nbformat_minor": 0,
  "metadata": {
    "colab": {
      "name": "Lecture 1.0 - Introduction to SKLearn.ipynb",
      "provenance": [],
      "collapsed_sections": [],
      "toc_visible": true,
      "include_colab_link": true
    },
    "kernelspec": {
      "name": "python3",
      "display_name": "Python 3"
    }
  },
  "cells": [
    {
      "cell_type": "markdown",
      "metadata": {
        "id": "view-in-github",
        "colab_type": "text"
      },
      "source": [
        "<a href=\"https://colab.research.google.com/github/andluizsouza/Machine-Learning-projects/blob/master/Intro_to_SKLearn.ipynb\" target=\"_parent\"><img src=\"https://colab.research.google.com/assets/colab-badge.svg\" alt=\"Open In Colab\"/></a>"
      ]
    },
    {
      "cell_type": "markdown",
      "metadata": {
        "id": "7dI2R6bzenyQ",
        "colab_type": "text"
      },
      "source": [
        " # **Introdução a classificação com SKLearn**"
      ]
    },
    {
      "cell_type": "markdown",
      "metadata": {
        "id": "C__oaV-EfOTO",
        "colab_type": "text"
      },
      "source": [
        "## **Projeto 01**\n",
        "\n",
        "> 1. Features: características de uma amostra\n",
        "> 2. Treinamento supervisionado\n",
        "> 3. Acurácia: taxa de acerto"
      ]
    },
    {
      "cell_type": "markdown",
      "metadata": {
        "id": "U71EXXryg5Ne",
        "colab_type": "text"
      },
      "source": [
        "### **Características**\n",
        "\n",
        "> Definição os critérios de classificação:\n",
        "1.  pelo longo?\n",
        "2. perna curta?\n",
        "3. faz auau?"
      ]
    },
    {
      "cell_type": "code",
      "metadata": {
        "id": "BHr9VQbCeQnC",
        "colab_type": "code",
        "colab": {}
      },
      "source": [
        "porco1 = [0,1,0]\n",
        "porco2 = [0,1,1]\n",
        "porco3 = [1,1,0]\n",
        "\n",
        "cao1 = [0,1,1]\n",
        "cao2 = [1,0,1]\n",
        "cao3 = [1,1,1]\n",
        "\n",
        "# Amostras de treino\n",
        "train_x = [porco1, porco2, porco3, cao1, cao2, cao3]\n",
        "# 0 == cao ou 1 == porco\n",
        "train_y = [1, 1, 1, 0, 0, 0] # labels"
      ],
      "execution_count": 0,
      "outputs": []
    },
    {
      "cell_type": "markdown",
      "metadata": {
        "id": "exzYVRmEuXjP",
        "colab_type": "text"
      },
      "source": [
        "### **Treinamento**"
      ]
    },
    {
      "cell_type": "code",
      "metadata": {
        "id": "ZA1Bf4i7iOHf",
        "colab_type": "code",
        "outputId": "3bab444e-9261-477b-8e37-e90d03270498",
        "colab": {
          "base_uri": "https://localhost:8080/",
          "height": 85
        }
      },
      "source": [
        "from sklearn.svm import LinearSVC\n",
        "model = LinearSVC()\n",
        "model.fit(train_x, train_y)"
      ],
      "execution_count": 0,
      "outputs": [
        {
          "output_type": "execute_result",
          "data": {
            "text/plain": [
              "LinearSVC(C=1.0, class_weight=None, dual=True, fit_intercept=True,\n",
              "          intercept_scaling=1, loss='squared_hinge', max_iter=1000,\n",
              "          multi_class='ovr', penalty='l2', random_state=None, tol=0.0001,\n",
              "          verbose=0)"
            ]
          },
          "metadata": {
            "tags": []
          },
          "execution_count": 2
        }
      ]
    },
    {
      "cell_type": "markdown",
      "metadata": {
        "id": "VoViQK4Gkkel",
        "colab_type": "text"
      },
      "source": [
        "Como fazer predições com esse modelo?"
      ]
    },
    {
      "cell_type": "code",
      "metadata": {
        "id": "MGegS30ijNKI",
        "colab_type": "code",
        "outputId": "04b4d86e-3f7c-485a-89df-83f410374042",
        "colab": {
          "base_uri": "https://localhost:8080/",
          "height": 34
        }
      },
      "source": [
        "animal_misterioso = [1,1,1]\n",
        "model.predict([animal_misterioso])\n"
      ],
      "execution_count": 0,
      "outputs": [
        {
          "output_type": "execute_result",
          "data": {
            "text/plain": [
              "array([0])"
            ]
          },
          "metadata": {
            "tags": []
          },
          "execution_count": 3
        }
      ]
    },
    {
      "cell_type": "markdown",
      "metadata": {
        "id": "H4YctItmsOl_",
        "colab_type": "text"
      },
      "source": [
        "Calculando a acurácia/precisão do modelo com uma amostra teste conhecida"
      ]
    },
    {
      "cell_type": "code",
      "metadata": {
        "id": "CdnBiccWkbxw",
        "colab_type": "code",
        "outputId": "d4218571-8483-4df9-f9bf-4bac15db7029",
        "colab": {
          "base_uri": "https://localhost:8080/",
          "height": 34
        }
      },
      "source": [
        "test1 = [1,1,1]\n",
        "test2 = [1,0,1]\n",
        "test3 = [1,0,1]\n",
        "test4 = [1,0,0]\n",
        "test_x = [test1, test2, test3, test4]\n",
        "test_y = [0, 1, 0, 1]\n",
        "\n",
        "predictions = model.predict(test_x)\n",
        "\n",
        "from sklearn.metrics import accuracy_score\n",
        "accuracy_score(test_y, predictions)"
      ],
      "execution_count": 0,
      "outputs": [
        {
          "output_type": "execute_result",
          "data": {
            "text/plain": [
              "0.75"
            ]
          },
          "metadata": {
            "tags": []
          },
          "execution_count": 4
        }
      ]
    },
    {
      "cell_type": "markdown",
      "metadata": {
        "id": "4UCR8vnKvFyr",
        "colab_type": "text"
      },
      "source": [
        "## **Projeto 02**\n",
        "\n",
        "> Importando um arquivo csv via uri: acessos a um website\n"
      ]
    },
    {
      "cell_type": "code",
      "metadata": {
        "id": "vaV1gHaYmflG",
        "colab_type": "code",
        "outputId": "5129ce96-2970-4c4e-a672-3c5ab5c0723c",
        "colab": {
          "base_uri": "https://localhost:8080/",
          "height": 204
        }
      },
      "source": [
        "import pandas as pd\n",
        "uri_name = 'https://gist.githubusercontent.com/guilhermesilveira/2d2efa37d66b6c84a722ea627a897ced/raw/10968b997d885cbded1c92938c7a9912ba41c615/tracking.csv'\n",
        "csv_data = pd.read_csv(uri_name)\n",
        "csv_data.head()"
      ],
      "execution_count": 0,
      "outputs": [
        {
          "output_type": "execute_result",
          "data": {
            "text/html": [
              "<div>\n",
              "<style scoped>\n",
              "    .dataframe tbody tr th:only-of-type {\n",
              "        vertical-align: middle;\n",
              "    }\n",
              "\n",
              "    .dataframe tbody tr th {\n",
              "        vertical-align: top;\n",
              "    }\n",
              "\n",
              "    .dataframe thead th {\n",
              "        text-align: right;\n",
              "    }\n",
              "</style>\n",
              "<table border=\"1\" class=\"dataframe\">\n",
              "  <thead>\n",
              "    <tr style=\"text-align: right;\">\n",
              "      <th></th>\n",
              "      <th>home</th>\n",
              "      <th>how_it_works</th>\n",
              "      <th>contact</th>\n",
              "      <th>bought</th>\n",
              "    </tr>\n",
              "  </thead>\n",
              "  <tbody>\n",
              "    <tr>\n",
              "      <th>0</th>\n",
              "      <td>1</td>\n",
              "      <td>1</td>\n",
              "      <td>0</td>\n",
              "      <td>0</td>\n",
              "    </tr>\n",
              "    <tr>\n",
              "      <th>1</th>\n",
              "      <td>1</td>\n",
              "      <td>1</td>\n",
              "      <td>0</td>\n",
              "      <td>0</td>\n",
              "    </tr>\n",
              "    <tr>\n",
              "      <th>2</th>\n",
              "      <td>1</td>\n",
              "      <td>1</td>\n",
              "      <td>0</td>\n",
              "      <td>0</td>\n",
              "    </tr>\n",
              "    <tr>\n",
              "      <th>3</th>\n",
              "      <td>1</td>\n",
              "      <td>1</td>\n",
              "      <td>0</td>\n",
              "      <td>0</td>\n",
              "    </tr>\n",
              "    <tr>\n",
              "      <th>4</th>\n",
              "      <td>1</td>\n",
              "      <td>1</td>\n",
              "      <td>0</td>\n",
              "      <td>0</td>\n",
              "    </tr>\n",
              "  </tbody>\n",
              "</table>\n",
              "</div>"
            ],
            "text/plain": [
              "   home  how_it_works  contact  bought\n",
              "0     1             1        0       0\n",
              "1     1             1        0       0\n",
              "2     1             1        0       0\n",
              "3     1             1        0       0\n",
              "4     1             1        0       0"
            ]
          },
          "metadata": {
            "tags": []
          },
          "execution_count": 5
        }
      ]
    },
    {
      "cell_type": "code",
      "metadata": {
        "id": "GLXP_yRcw77K",
        "colab_type": "code",
        "colab": {}
      },
      "source": [
        "data_x = csv_data[['home', 'how_it_works', 'contact']]\n",
        "data_y = csv_data[['bought']]"
      ],
      "execution_count": 0,
      "outputs": []
    },
    {
      "cell_type": "markdown",
      "metadata": {
        "id": "cAkgtErMyjpI",
        "colab_type": "text"
      },
      "source": [
        "### **Treino vs teste**"
      ]
    },
    {
      "cell_type": "markdown",
      "metadata": {
        "id": "W3cnt0QZ2jqw",
        "colab_type": "text"
      },
      "source": [
        "Separando 75% da amostra total para treinamento do modelo e usando 25% para teste"
      ]
    },
    {
      "cell_type": "code",
      "metadata": {
        "id": "LaMmACKsx5Yo",
        "colab_type": "code",
        "colab": {}
      },
      "source": [
        "len_data = csv_data.shape[0]\n",
        "index_train = int(0.75*len_data)\n",
        "train_x_web = data_x[:index_train]\n",
        "train_y_web = data_y[:index_train]"
      ],
      "execution_count": 0,
      "outputs": []
    },
    {
      "cell_type": "code",
      "metadata": {
        "id": "PhsTU3MCyAxS",
        "colab_type": "code",
        "colab": {}
      },
      "source": [
        "test_x_web = data_x[index_train:]\n",
        "test_y_web = data_y[index_train:]"
      ],
      "execution_count": 0,
      "outputs": []
    },
    {
      "cell_type": "markdown",
      "metadata": {
        "id": "k7YP4VWd2yit",
        "colab_type": "text"
      },
      "source": [
        "### **Acurácia do modelo**"
      ]
    },
    {
      "cell_type": "code",
      "metadata": {
        "id": "Y_N7r9e7zlHx",
        "colab_type": "code",
        "outputId": "c60cd918-795c-42e1-f923-d204518d1f89",
        "colab": {
          "base_uri": "https://localhost:8080/",
          "height": 88
        }
      },
      "source": [
        "model_web = LinearSVC()\n",
        "model_web.fit(train_x_web, train_y_web)\n",
        "predict_web = model_web.predict(test_x_web)\n",
        "score = accuracy_score(test_y_web, predict_web)*100\n",
        "print(\"The accuracy score is %.2f%%\" % score)"
      ],
      "execution_count": 0,
      "outputs": [
        {
          "output_type": "stream",
          "text": [
            "The accuracy score is 96.00%\n"
          ],
          "name": "stdout"
        },
        {
          "output_type": "stream",
          "text": [
            "/usr/local/lib/python3.6/dist-packages/sklearn/utils/validation.py:724: DataConversionWarning: A column-vector y was passed when a 1d array was expected. Please change the shape of y to (n_samples, ), for example using ravel().\n",
            "  y = column_or_1d(y, warn=True)\n"
          ],
          "name": "stderr"
        }
      ]
    },
    {
      "cell_type": "markdown",
      "metadata": {
        "id": "yn5NsDsm6V6A",
        "colab_type": "text"
      },
      "source": [
        "### **Usando train_test_split**"
      ]
    },
    {
      "cell_type": "markdown",
      "metadata": {
        "id": "B6pe7VAa63_U",
        "colab_type": "text"
      },
      "source": [
        "Separação aleatória"
      ]
    },
    {
      "cell_type": "code",
      "metadata": {
        "id": "_icsyg9V0iBy",
        "colab_type": "code",
        "outputId": "1111cc9e-63a3-46c5-cd00-7f564921a94e",
        "colab": {
          "base_uri": "https://localhost:8080/",
          "height": 88
        }
      },
      "source": [
        "from sklearn.model_selection import train_test_split\n",
        "train_x_web, test_x_web, train_y_web, test_y_web = train_test_split(data_x, data_y, test_size=0.25)\n",
        "\n",
        "model_web = LinearSVC()\n",
        "model_web.fit(train_x_web, train_y_web)\n",
        "predict_web = model_web.predict(test_x_web)\n",
        "score = accuracy_score(test_y_web, predict_web)*100\n",
        "print(\"The accuracy score is %.2f%%\" % score)"
      ],
      "execution_count": 0,
      "outputs": [
        {
          "output_type": "stream",
          "text": [
            "The accuracy score is 96.00%\n"
          ],
          "name": "stdout"
        },
        {
          "output_type": "stream",
          "text": [
            "/usr/local/lib/python3.6/dist-packages/sklearn/utils/validation.py:724: DataConversionWarning: A column-vector y was passed when a 1d array was expected. Please change the shape of y to (n_samples, ), for example using ravel().\n",
            "  y = column_or_1d(y, warn=True)\n"
          ],
          "name": "stderr"
        }
      ]
    },
    {
      "cell_type": "markdown",
      "metadata": {
        "id": "nj6tKSky7jAB",
        "colab_type": "text"
      },
      "source": [
        "> Dessa forma teremos um resultado diferente para cada rodada \n",
        ">> random_state definido quebra a aleatoriedade da separação \n",
        "\n",
        "> As amostras de treino e de teste devem ter a mesma proporção de respostas true/false\n",
        ">> estratificar em data_y"
      ]
    },
    {
      "cell_type": "code",
      "metadata": {
        "id": "5e8hFbor5bjL",
        "colab_type": "code",
        "outputId": "1c507c2d-d34d-4124-a540-b71b58bd4990",
        "colab": {
          "base_uri": "https://localhost:8080/",
          "height": 88
        }
      },
      "source": [
        "SEED = 20\n",
        "train_x_web, test_x_web, train_y_web, test_y_web = train_test_split(\n",
        "    data_x, data_y, test_size=0.25, random_state=SEED, stratify=data_y)\n",
        "\n",
        "model_web = LinearSVC()\n",
        "model_web.fit(train_x_web, train_y_web)\n",
        "predict_web = model_web.predict(test_x_web)\n",
        "score = accuracy_score(test_y_web, predict_web)*100\n",
        "print(\"The accuracy score is %.2f%%\" % score)"
      ],
      "execution_count": 0,
      "outputs": [
        {
          "output_type": "stream",
          "text": [
            "The accuracy score is 96.00%\n"
          ],
          "name": "stdout"
        },
        {
          "output_type": "stream",
          "text": [
            "/usr/local/lib/python3.6/dist-packages/sklearn/utils/validation.py:724: DataConversionWarning: A column-vector y was passed when a 1d array was expected. Please change the shape of y to (n_samples, ), for example using ravel().\n",
            "  y = column_or_1d(y, warn=True)\n"
          ],
          "name": "stderr"
        }
      ]
    },
    {
      "cell_type": "markdown",
      "metadata": {
        "id": "wnCwWuTQRyBJ",
        "colab_type": "text"
      },
      "source": [
        "## **Projeto 03**\n",
        "\n",
        "\n",
        "\n"
      ]
    },
    {
      "cell_type": "markdown",
      "metadata": {
        "id": "IcBiet5oTQP7",
        "colab_type": "text"
      },
      "source": [
        "Como podemos prever se um trabalho será finalizado ou não?"
      ]
    },
    {
      "cell_type": "code",
      "metadata": {
        "id": "fp3-iFkV6zV1",
        "colab_type": "code",
        "outputId": "913e70a4-3a2d-4367-88a4-b48c6dfed332",
        "colab": {
          "base_uri": "https://localhost:8080/",
          "height": 204
        }
      },
      "source": [
        "import pandas as pd\n",
        "uri_name = 'https://gist.githubusercontent.com/guilhermesilveira/1b7d5475863c15f484ac495bd70975cf/raw/16aff7a0aee67e7c100a2a48b676a2d2d142f646/projects.csv'\n",
        "csv_data = pd.read_csv(uri_name)\n",
        "csv_data.head()"
      ],
      "execution_count": 0,
      "outputs": [
        {
          "output_type": "execute_result",
          "data": {
            "text/html": [
              "<div>\n",
              "<style scoped>\n",
              "    .dataframe tbody tr th:only-of-type {\n",
              "        vertical-align: middle;\n",
              "    }\n",
              "\n",
              "    .dataframe tbody tr th {\n",
              "        vertical-align: top;\n",
              "    }\n",
              "\n",
              "    .dataframe thead th {\n",
              "        text-align: right;\n",
              "    }\n",
              "</style>\n",
              "<table border=\"1\" class=\"dataframe\">\n",
              "  <thead>\n",
              "    <tr style=\"text-align: right;\">\n",
              "      <th></th>\n",
              "      <th>unfinished</th>\n",
              "      <th>expected_hours</th>\n",
              "      <th>price</th>\n",
              "    </tr>\n",
              "  </thead>\n",
              "  <tbody>\n",
              "    <tr>\n",
              "      <th>0</th>\n",
              "      <td>1</td>\n",
              "      <td>26</td>\n",
              "      <td>192</td>\n",
              "    </tr>\n",
              "    <tr>\n",
              "      <th>1</th>\n",
              "      <td>1</td>\n",
              "      <td>88</td>\n",
              "      <td>9015</td>\n",
              "    </tr>\n",
              "    <tr>\n",
              "      <th>2</th>\n",
              "      <td>1</td>\n",
              "      <td>89</td>\n",
              "      <td>2577</td>\n",
              "    </tr>\n",
              "    <tr>\n",
              "      <th>3</th>\n",
              "      <td>1</td>\n",
              "      <td>42</td>\n",
              "      <td>275</td>\n",
              "    </tr>\n",
              "    <tr>\n",
              "      <th>4</th>\n",
              "      <td>1</td>\n",
              "      <td>39</td>\n",
              "      <td>170</td>\n",
              "    </tr>\n",
              "  </tbody>\n",
              "</table>\n",
              "</div>"
            ],
            "text/plain": [
              "   unfinished  expected_hours  price\n",
              "0           1              26    192\n",
              "1           1              88   9015\n",
              "2           1              89   2577\n",
              "3           1              42    275\n",
              "4           1              39    170"
            ]
          },
          "metadata": {
            "tags": []
          },
          "execution_count": 12
        }
      ]
    },
    {
      "cell_type": "markdown",
      "metadata": {
        "id": "RS3nqORZU0Fc",
        "colab_type": "text"
      },
      "source": [
        "Adicionando uma coluna 'finished'"
      ]
    },
    {
      "cell_type": "code",
      "metadata": {
        "id": "eCTAorBhTJNs",
        "colab_type": "code",
        "outputId": "6f9eef66-4784-4bf7-cf66-50bbd5be64a2",
        "colab": {
          "base_uri": "https://localhost:8080/",
          "height": 204
        }
      },
      "source": [
        "add_finished = {0: 1, 1: 0}\n",
        "csv_data['finished'] = csv_data['unfinished'].map(add_finished)\n",
        "csv_data.head()"
      ],
      "execution_count": 0,
      "outputs": [
        {
          "output_type": "execute_result",
          "data": {
            "text/html": [
              "<div>\n",
              "<style scoped>\n",
              "    .dataframe tbody tr th:only-of-type {\n",
              "        vertical-align: middle;\n",
              "    }\n",
              "\n",
              "    .dataframe tbody tr th {\n",
              "        vertical-align: top;\n",
              "    }\n",
              "\n",
              "    .dataframe thead th {\n",
              "        text-align: right;\n",
              "    }\n",
              "</style>\n",
              "<table border=\"1\" class=\"dataframe\">\n",
              "  <thead>\n",
              "    <tr style=\"text-align: right;\">\n",
              "      <th></th>\n",
              "      <th>unfinished</th>\n",
              "      <th>expected_hours</th>\n",
              "      <th>price</th>\n",
              "      <th>finished</th>\n",
              "    </tr>\n",
              "  </thead>\n",
              "  <tbody>\n",
              "    <tr>\n",
              "      <th>0</th>\n",
              "      <td>1</td>\n",
              "      <td>26</td>\n",
              "      <td>192</td>\n",
              "      <td>0</td>\n",
              "    </tr>\n",
              "    <tr>\n",
              "      <th>1</th>\n",
              "      <td>1</td>\n",
              "      <td>88</td>\n",
              "      <td>9015</td>\n",
              "      <td>0</td>\n",
              "    </tr>\n",
              "    <tr>\n",
              "      <th>2</th>\n",
              "      <td>1</td>\n",
              "      <td>89</td>\n",
              "      <td>2577</td>\n",
              "      <td>0</td>\n",
              "    </tr>\n",
              "    <tr>\n",
              "      <th>3</th>\n",
              "      <td>1</td>\n",
              "      <td>42</td>\n",
              "      <td>275</td>\n",
              "      <td>0</td>\n",
              "    </tr>\n",
              "    <tr>\n",
              "      <th>4</th>\n",
              "      <td>1</td>\n",
              "      <td>39</td>\n",
              "      <td>170</td>\n",
              "      <td>0</td>\n",
              "    </tr>\n",
              "  </tbody>\n",
              "</table>\n",
              "</div>"
            ],
            "text/plain": [
              "   unfinished  expected_hours  price  finished\n",
              "0           1              26    192         0\n",
              "1           1              88   9015         0\n",
              "2           1              89   2577         0\n",
              "3           1              42    275         0\n",
              "4           1              39    170         0"
            ]
          },
          "metadata": {
            "tags": []
          },
          "execution_count": 13
        }
      ]
    },
    {
      "cell_type": "code",
      "metadata": {
        "id": "wWD3IuY0Ut8p",
        "colab_type": "code",
        "outputId": "a914a4de-ac2f-457f-d94c-66b4e75c0dd2",
        "colab": {
          "base_uri": "https://localhost:8080/",
          "height": 241
        }
      },
      "source": [
        "!pip install seaborn==0.9.0"
      ],
      "execution_count": 0,
      "outputs": [
        {
          "output_type": "stream",
          "text": [
            "Requirement already satisfied: seaborn==0.9.0 in /usr/local/lib/python3.6/dist-packages (0.9.0)\n",
            "Requirement already satisfied: scipy>=0.14.0 in /usr/local/lib/python3.6/dist-packages (from seaborn==0.9.0) (1.3.2)\n",
            "Requirement already satisfied: matplotlib>=1.4.3 in /usr/local/lib/python3.6/dist-packages (from seaborn==0.9.0) (3.1.1)\n",
            "Requirement already satisfied: pandas>=0.15.2 in /usr/local/lib/python3.6/dist-packages (from seaborn==0.9.0) (0.25.3)\n",
            "Requirement already satisfied: numpy>=1.9.3 in /usr/local/lib/python3.6/dist-packages (from seaborn==0.9.0) (1.17.4)\n",
            "Requirement already satisfied: pyparsing!=2.0.4,!=2.1.2,!=2.1.6,>=2.0.1 in /usr/local/lib/python3.6/dist-packages (from matplotlib>=1.4.3->seaborn==0.9.0) (2.4.5)\n",
            "Requirement already satisfied: cycler>=0.10 in /usr/local/lib/python3.6/dist-packages (from matplotlib>=1.4.3->seaborn==0.9.0) (0.10.0)\n",
            "Requirement already satisfied: python-dateutil>=2.1 in /usr/local/lib/python3.6/dist-packages (from matplotlib>=1.4.3->seaborn==0.9.0) (2.6.1)\n",
            "Requirement already satisfied: kiwisolver>=1.0.1 in /usr/local/lib/python3.6/dist-packages (from matplotlib>=1.4.3->seaborn==0.9.0) (1.1.0)\n",
            "Requirement already satisfied: pytz>=2017.2 in /usr/local/lib/python3.6/dist-packages (from pandas>=0.15.2->seaborn==0.9.0) (2018.9)\n",
            "Requirement already satisfied: six in /usr/local/lib/python3.6/dist-packages (from cycler>=0.10->matplotlib>=1.4.3->seaborn==0.9.0) (1.12.0)\n",
            "Requirement already satisfied: setuptools in /usr/local/lib/python3.6/dist-packages (from kiwisolver>=1.0.1->matplotlib>=1.4.3->seaborn==0.9.0) (41.4.0)\n"
          ],
          "name": "stdout"
        }
      ]
    },
    {
      "cell_type": "code",
      "metadata": {
        "id": "d1sVv2EQanuu",
        "colab_type": "code",
        "outputId": "a24148c5-a961-4482-e7dd-a9952d83a358",
        "colab": {
          "base_uri": "https://localhost:8080/",
          "height": 297
        }
      },
      "source": [
        "import seaborn as sns\n",
        "sns.scatterplot(x='expected_hours', y='price', data=csv_data)"
      ],
      "execution_count": 0,
      "outputs": [
        {
          "output_type": "execute_result",
          "data": {
            "text/plain": [
              "<matplotlib.axes._subplots.AxesSubplot at 0x7f1ef1974e10>"
            ]
          },
          "metadata": {
            "tags": []
          },
          "execution_count": 15
        },
        {
          "output_type": "display_data",
          "data": {
            "image/png": "[encoded data removed]",
            "text/plain": [
              "<Figure size 432x288 with 1 Axes>"
            ]
          },
          "metadata": {
            "tags": []
          }
        }
      ]
    },
    {
      "cell_type": "code",
      "metadata": {
        "id": "efJz7udHav2e",
        "colab_type": "code",
        "outputId": "8200ac4a-d8a9-4125-d6f2-6f957168ecd7",
        "colab": {
          "base_uri": "https://localhost:8080/",
          "height": 297
        }
      },
      "source": [
        "sns.scatterplot(x='expected_hours', y='price', hue='finished', data=csv_data)"
      ],
      "execution_count": 0,
      "outputs": [
        {
          "output_type": "execute_result",
          "data": {
            "text/plain": [
              "<matplotlib.axes._subplots.AxesSubplot at 0x7f1eef8ef240>"
            ]
          },
          "metadata": {
            "tags": []
          },
          "execution_count": 16
        },
        {
          "output_type": "display_data",
          "data": {
            "image/png": "[encoded data removed]",
            "text/plain": [
              "<Figure size 432x288 with 1 Axes>"
            ]
          },
          "metadata": {
            "tags": []
          }
        }
      ]
    },
    {
      "cell_type": "markdown",
      "metadata": {
        "id": "2CN3T_5fdn7S",
        "colab_type": "text"
      },
      "source": [
        "Existe uma tendência para os trabalhos finalizados: um valor mínimo por horas esperadas"
      ]
    },
    {
      "cell_type": "markdown",
      "metadata": {
        "id": "vaa7RrU4ubdr",
        "colab_type": "text"
      },
      "source": [
        "### **Modelagem e acurácia**"
      ]
    },
    {
      "cell_type": "markdown",
      "metadata": {
        "id": "i7SqBpmWqYhs",
        "colab_type": "text"
      },
      "source": [
        "Separando as amostras de treino e de teste"
      ]
    },
    {
      "cell_type": "code",
      "metadata": {
        "id": "6itjCdArqTN_",
        "colab_type": "code",
        "outputId": "1ec72bc4-de59-4a7e-d4f2-c2e6ddc37f97",
        "colab": {
          "base_uri": "https://localhost:8080/",
          "height": 34
        }
      },
      "source": [
        "data_x = csv_data[['expected_hours', 'price']]\n",
        "data_y = csv_data[['finished']]\n",
        "\n",
        "SEED = 20\n",
        "train_x_web, test_x_web, train_y_web, test_y_web = train_test_split(\n",
        "    data_x, data_y, test_size=0.25, random_state=SEED, stratify=data_y)\n",
        "print(\"The train was made with %d elements and the test with %d elements\" %(len(train_x_web), len(test_x_web)))"
      ],
      "execution_count": 0,
      "outputs": [
        {
          "output_type": "stream",
          "text": [
            "The train was made with 1617 elements and the test with 540 elements\n"
          ],
          "name": "stdout"
        }
      ]
    },
    {
      "cell_type": "markdown",
      "metadata": {
        "id": "feyvS1FPqmWs",
        "colab_type": "text"
      },
      "source": [
        "Ajustando um modelo linear sobre a amostra de treino\n",
        "\n"
      ]
    },
    {
      "cell_type": "code",
      "metadata": {
        "id": "pm6WZszzqlJK",
        "colab_type": "code",
        "outputId": "ac6fc10b-59c0-49c6-c3a7-fa736baa83f2",
        "colab": {
          "base_uri": "https://localhost:8080/",
          "height": 173
        }
      },
      "source": [
        "model_web = LinearSVC()\n",
        "model_web.fit(train_x_web, train_y_web)"
      ],
      "execution_count": 0,
      "outputs": [
        {
          "output_type": "stream",
          "text": [
            "/usr/local/lib/python3.6/dist-packages/sklearn/utils/validation.py:724: DataConversionWarning: A column-vector y was passed when a 1d array was expected. Please change the shape of y to (n_samples, ), for example using ravel().\n",
            "  y = column_or_1d(y, warn=True)\n",
            "/usr/local/lib/python3.6/dist-packages/sklearn/svm/base.py:929: ConvergenceWarning: Liblinear failed to converge, increase the number of iterations.\n",
            "  \"the number of iterations.\", ConvergenceWarning)\n"
          ],
          "name": "stderr"
        },
        {
          "output_type": "execute_result",
          "data": {
            "text/plain": [
              "LinearSVC(C=1.0, class_weight=None, dual=True, fit_intercept=True,\n",
              "          intercept_scaling=1, loss='squared_hinge', max_iter=1000,\n",
              "          multi_class='ovr', penalty='l2', random_state=None, tol=0.0001,\n",
              "          verbose=0)"
            ]
          },
          "metadata": {
            "tags": []
          },
          "execution_count": 18
        }
      ]
    },
    {
      "cell_type": "markdown",
      "metadata": {
        "id": "7jpaHN-Cq2AL",
        "colab_type": "text"
      },
      "source": [
        "- Usando a amostra de teste naquele modelo linear para fazer uma predição\n",
        "- Comparando a predição do modelo (predict_web) com a resposta real (test_y_web) através da acurácia"
      ]
    },
    {
      "cell_type": "code",
      "metadata": {
        "id": "UicTwYziq1Ku",
        "colab_type": "code",
        "outputId": "33e404eb-e625-4cd2-c8ee-4380df46b55c",
        "colab": {
          "base_uri": "https://localhost:8080/",
          "height": 34
        }
      },
      "source": [
        "predict_web = model_web.predict(test_x_web)\n",
        "score_model = accuracy_score(test_y_web, predict_web)*100\n",
        "print(\"The accuracy score is %.2f%%\" % score_model)"
      ],
      "execution_count": 0,
      "outputs": [
        {
          "output_type": "stream",
          "text": [
            "The accuracy score is 57.41%\n"
          ],
          "name": "stdout"
        }
      ]
    },
    {
      "cell_type": "markdown",
      "metadata": {
        "id": "SbpWQ2g1hkcj",
        "colab_type": "text"
      },
      "source": [
        "### **Baseline test**"
      ]
    },
    {
      "cell_type": "markdown",
      "metadata": {
        "id": "R10kL8X7fqeJ",
        "colab_type": "text"
      },
      "source": [
        "- Como validar a acurácia do modelo? \n",
        "- Aquele accuracy score é bom ou ruim?\n"
      ]
    },
    {
      "cell_type": "markdown",
      "metadata": {
        "id": "M_puIJC8vhvx",
        "colab_type": "text"
      },
      "source": [
        "Definimos um **baseline test**: uma previsão \"chute\", sem nenhum tipo de modelagem."
      ]
    },
    {
      "cell_type": "code",
      "metadata": {
        "id": "cHbyj5QocDNj",
        "colab_type": "code",
        "outputId": "7bd7473c-1100-4fa8-bcfc-17918dff12d0",
        "colab": {
          "base_uri": "https://localhost:8080/",
          "height": 34
        }
      },
      "source": [
        "import numpy as np\n",
        "baseline_predict = np.ones(len(test_x_web))\n",
        "score_baseline = accuracy_score(test_y_web, baseline_predict)*100\n",
        "print(\"The baseline accuracy score is %.2f%%\" % score_baseline)"
      ],
      "execution_count": 0,
      "outputs": [
        {
          "output_type": "stream",
          "text": [
            "The baseline accuracy score is 52.59%\n"
          ],
          "name": "stdout"
        }
      ]
    },
    {
      "cell_type": "markdown",
      "metadata": {
        "id": "vCdYLZe7wBlr",
        "colab_type": "text"
      },
      "source": [
        "- A predição do modelo (score_model) usando uma amostra de treino deveria ser muito melhor do que a predição \"chute\" (score_baseline)\n",
        "- Se não, isso significa que o treinamento foi ineficiente ou impreciso"
      ]
    },
    {
      "cell_type": "markdown",
      "metadata": {
        "id": "vg7t8xXn3nNX",
        "colab_type": "text"
      },
      "source": [
        "Comparando amostras de treino e de teste"
      ]
    },
    {
      "cell_type": "code",
      "metadata": {
        "id": "K85_VQEaf8ty",
        "colab_type": "code",
        "outputId": "6a0ef2cc-b7b1-40ff-b2c7-4bf3be079318",
        "colab": {
          "base_uri": "https://localhost:8080/",
          "height": 297
        }
      },
      "source": [
        "sns.scatterplot(x='expected_hours', y='price', hue=train_y_web['finished'], data=train_x_web)"
      ],
      "execution_count": 0,
      "outputs": [
        {
          "output_type": "execute_result",
          "data": {
            "text/plain": [
              "<matplotlib.axes._subplots.AxesSubplot at 0x7f1eef3c8fd0>"
            ]
          },
          "metadata": {
            "tags": []
          },
          "execution_count": 21
        },
        {
          "output_type": "display_data",
          "data": {
            "image/png": "[encoded data removed]",
            "text/plain": [
              "<Figure size 432x288 with 1 Axes>"
            ]
          },
          "metadata": {
            "tags": []
          }
        }
      ]
    },
    {
      "cell_type": "code",
      "metadata": {
        "id": "o9cXj1kDBHev",
        "colab_type": "code",
        "outputId": "a9abe735-d007-4c21-e86d-346eaef84816",
        "colab": {
          "base_uri": "https://localhost:8080/",
          "height": 297
        }
      },
      "source": [
        "sns.scatterplot(x='expected_hours', y='price', hue=test_y_web['finished'], data=test_x_web)"
      ],
      "execution_count": 0,
      "outputs": [
        {
          "output_type": "execute_result",
          "data": {
            "text/plain": [
              "<matplotlib.axes._subplots.AxesSubplot at 0x7f1eef38b978>"
            ]
          },
          "metadata": {
            "tags": []
          },
          "execution_count": 22
        },
        {
          "output_type": "display_data",
          "data": {
            "image/png": "[encoded data removed]",
            "text/plain": [
              "<Figure size 432x288 with 1 Axes>"
            ]
          },
          "metadata": {
            "tags": []
          }
        }
      ]
    },
    {
      "cell_type": "markdown",
      "metadata": {
        "id": "lvUXqxyrBZcQ",
        "colab_type": "text"
      },
      "source": [
        "- As amostras de treino e de teste seguem a mesma tendência do conjunto original\n",
        "- Há uma **curva de decisão** sobre a finalização ou não do trabalho"
      ]
    },
    {
      "cell_type": "markdown",
      "metadata": {
        "id": "TFykO22n_0Jq",
        "colab_type": "text"
      },
      "source": [
        "### **Curva de decisão**"
      ]
    },
    {
      "cell_type": "markdown",
      "metadata": {
        "id": "UlQCZtW1BwYQ",
        "colab_type": "text"
      },
      "source": [
        "Criando uma lista para cada eixo"
      ]
    },
    {
      "cell_type": "code",
      "metadata": {
        "colab_type": "code",
        "id": "I8fqm7do7rc4",
        "colab": {}
      },
      "source": [
        "hours_min = data_x['expected_hours'].min()\n",
        "hours_max = data_x['expected_hours'].max()\n",
        "price_min = data_x['price'].min()\n",
        "price_max = data_x['price'].max()\n",
        "\n",
        "pixel = 100\n",
        "hours_array = np.arange(hours_min, hours_max, (hours_max-hours_min)/pixel)\n",
        "price_array = np.arange(price_min, price_max, (price_max-price_min)/pixel)"
      ],
      "execution_count": 0,
      "outputs": []
    },
    {
      "cell_type": "markdown",
      "metadata": {
        "id": "tFjG1fMy70sL",
        "colab_type": "text"
      },
      "source": [
        "Criando uma lista com todos os pares ordenados"
      ]
    },
    {
      "cell_type": "code",
      "metadata": {
        "id": "QkIaNTas7vs6",
        "colab_type": "code",
        "outputId": "93d1ae0a-6993-468a-d0b2-d606bdab963a",
        "colab": {
          "base_uri": "https://localhost:8080/",
          "height": 34
        }
      },
      "source": [
        "xx, yy = np.meshgrid(hours_array, price_array)\n",
        "all_points = np.c_[xx.ravel(), yy.ravel()]\n",
        "all_points.shape"
      ],
      "execution_count": 0,
      "outputs": [
        {
          "output_type": "execute_result",
          "data": {
            "text/plain": [
              "(10000, 2)"
            ]
          },
          "metadata": {
            "tags": []
          },
          "execution_count": 24
        }
      ]
    },
    {
      "cell_type": "markdown",
      "metadata": {
        "id": "ATyuedpg8LfS",
        "colab_type": "text"
      },
      "source": [
        "Calculando as previsões de todos esses pontos a partir do modelo de ajuste linear sobre a amostra de treino"
      ]
    },
    {
      "cell_type": "code",
      "metadata": {
        "id": "H3lujLnW78ft",
        "colab_type": "code",
        "colab": {}
      },
      "source": [
        "all_predict = model_web.predict(all_points)\n",
        "all_predict = all_predict.reshape(xx.shape)"
      ],
      "execution_count": 0,
      "outputs": []
    },
    {
      "cell_type": "markdown",
      "metadata": {
        "id": "wnobdSdsCDPb",
        "colab_type": "text"
      },
      "source": [
        "Plotando o conjunto original de dados com as previsões do modelo sobre todo o espaço amostral"
      ]
    },
    {
      "cell_type": "code",
      "metadata": {
        "id": "pbXou_TM8m3Y",
        "colab_type": "code",
        "outputId": "5eb86b5c-01ac-4614-a549-88ca53d771fb",
        "colab": {
          "base_uri": "https://localhost:8080/",
          "height": 282
        }
      },
      "source": [
        "import matplotlib.pyplot as plt\n",
        "plt.scatter(data_x['expected_hours'], data_x['price'], c=data_y['finished'], s=3)\n",
        "plt.contourf(xx, yy, all_predict, alpha=0.2)"
      ],
      "execution_count": 0,
      "outputs": [
        {
          "output_type": "execute_result",
          "data": {
            "text/plain": [
              "<matplotlib.contour.QuadContourSet at 0x7f1eef2cab70>"
            ]
          },
          "metadata": {
            "tags": []
          },
          "execution_count": 26
        },
        {
          "output_type": "display_data",
          "data": {
            "image/png": "[encoded data removed]",
            "text/plain": [
              "<Figure size 432x288 with 1 Axes>"
            ]
          },
          "metadata": {
            "tags": []
          }
        }
      ]
    },
    {
      "cell_type": "markdown",
      "metadata": {
        "id": "yplXAHAo_g3i",
        "colab_type": "text"
      },
      "source": [
        "A curva teórica de decisão é **péssima**: o modelo basicamente atribui 'finished' para todos os trabalhos\n",
        "- O modelo de ajuste linear não é apropriado para esse conjunto de dados\n",
        "- LinearSVC também tem um _random_state_ ([read me](https://scikit-learn.org/stable/modules/generated/sklearn.svm.LinearSVC.html))\n",
        "- Precisamos usar outros algoritmos de ajuste: [Support Vector Machine](https://scikit-learn.org/stable/modules/classes.html#module-sklearn.svm)\n",
        "- Outro problemas: estimadores não-lineares são dependentes da escala das variáveis. Em geral, devemos primeiro renormalizá-las com a livraria [Standard Scaler](https://scikit-learn.org/stable/modules/generated/sklearn.preprocessing.StandardScaler.html)\n"
      ]
    },
    {
      "cell_type": "markdown",
      "metadata": {
        "id": "4od2yMKk3iWI",
        "colab_type": "text"
      },
      "source": [
        "### **Estimador não-linear**"
      ]
    },
    {
      "cell_type": "markdown",
      "metadata": {
        "id": "20uMfldZ4NIJ",
        "colab_type": "text"
      },
      "source": [
        "Aqui vamos importar um estimador não-linear: SVC"
      ]
    },
    {
      "cell_type": "code",
      "metadata": {
        "id": "4U6Du8rC4oiE",
        "colab_type": "code",
        "colab": {}
      },
      "source": [
        "from sklearn.preprocessing import StandardScaler\n",
        "from sklearn.svm import SVC"
      ],
      "execution_count": 0,
      "outputs": []
    },
    {
      "cell_type": "markdown",
      "metadata": {
        "id": "OgO2MXN05PC8",
        "colab_type": "text"
      },
      "source": [
        "Separando amostras de treino e de teste"
      ]
    },
    {
      "cell_type": "code",
      "metadata": {
        "id": "f7ECeRioyn3s",
        "colab_type": "code",
        "outputId": "4e2cf0a1-fd72-4f78-87ff-c7a1990ac057",
        "colab": {
          "base_uri": "https://localhost:8080/",
          "height": 34
        }
      },
      "source": [
        "SEED = 5\n",
        "np.random.seed(SEED)\n",
        "\n",
        "data_x = csv_data[['expected_hours', 'price']]\n",
        "data_y = csv_data[['finished']]\n",
        "\n",
        "raw_train_x, raw_test_x, train_y, test_y = train_test_split(\n",
        "    data_x, data_y, test_size=0.25, random_state=SEED, stratify=data_y)\n",
        "print(\"The train was made with %d elements and the test with %d elements\" %(len(raw_train_x), len(raw_test_x)))"
      ],
      "execution_count": 0,
      "outputs": [
        {
          "output_type": "stream",
          "text": [
            "The train was made with 1617 elements and the test with 540 elements\n"
          ],
          "name": "stdout"
        }
      ]
    },
    {
      "cell_type": "markdown",
      "metadata": {
        "id": "5LF1pD2F54Cd",
        "colab_type": "text"
      },
      "source": [
        "**Rescalonamento das variáveis**\n",
        "- rescalonamento de acordo com a amostra de treino _raw_train_x_\n",
        "- novos x's de treino e de teste variando entre -2 e +2"
      ]
    },
    {
      "cell_type": "code",
      "metadata": {
        "id": "spVhL0jI5KEf",
        "colab_type": "code",
        "colab": {}
      },
      "source": [
        "scaler = StandardScaler()\n",
        "scaler.fit(raw_train_x)\n",
        "\n",
        "train_x = scaler.transform(raw_train_x)\n",
        "test_x = scaler.transform(raw_test_x)"
      ],
      "execution_count": 0,
      "outputs": []
    },
    {
      "cell_type": "markdown",
      "metadata": {
        "id": "QYyri9u369LD",
        "colab_type": "text"
      },
      "source": [
        "Usando o estimador SVC não-linear para criar o modelo de ajuste"
      ]
    },
    {
      "cell_type": "code",
      "metadata": {
        "id": "94Tn50WZ6Mio",
        "colab_type": "code",
        "outputId": "72dc50ab-46ef-4b29-9561-8587a8585214",
        "colab": {
          "base_uri": "https://localhost:8080/",
          "height": 139
        }
      },
      "source": [
        "model_nonlin = SVC()\n",
        "model_nonlin.fit(train_x, train_y)"
      ],
      "execution_count": 0,
      "outputs": [
        {
          "output_type": "stream",
          "text": [
            "/usr/local/lib/python3.6/dist-packages/sklearn/utils/validation.py:724: DataConversionWarning: A column-vector y was passed when a 1d array was expected. Please change the shape of y to (n_samples, ), for example using ravel().\n",
            "  y = column_or_1d(y, warn=True)\n"
          ],
          "name": "stderr"
        },
        {
          "output_type": "execute_result",
          "data": {
            "text/plain": [
              "SVC(C=1.0, cache_size=200, class_weight=None, coef0=0.0,\n",
              "    decision_function_shape='ovr', degree=3, gamma='auto_deprecated',\n",
              "    kernel='rbf', max_iter=-1, probability=False, random_state=None,\n",
              "    shrinking=True, tol=0.001, verbose=False)"
            ]
          },
          "metadata": {
            "tags": []
          },
          "execution_count": 30
        }
      ]
    },
    {
      "cell_type": "markdown",
      "metadata": {
        "id": "HgMfnzyX7nEn",
        "colab_type": "text"
      },
      "source": [
        "Calculando a acurácia do modelo não-linear e com as variáveis rescalonadas"
      ]
    },
    {
      "cell_type": "code",
      "metadata": {
        "id": "owDRDsya63mm",
        "colab_type": "code",
        "outputId": "b0a1982d-7d4f-46e4-dfb9-dcd10b880cfe",
        "colab": {
          "base_uri": "https://localhost:8080/",
          "height": 34
        }
      },
      "source": [
        "predict_nonlin = model_nonlin.predict(test_x)\n",
        "score_model = accuracy_score(test_y, predict_nonlin)*100\n",
        "print(\"The accuracy score from non-linear model is %.2f%%\" % score_model)"
      ],
      "execution_count": 0,
      "outputs": [
        {
          "output_type": "stream",
          "text": [
            "The accuracy score from non-linear model is 66.85%\n"
          ],
          "name": "stdout"
        }
      ]
    },
    {
      "cell_type": "markdown",
      "metadata": {
        "id": "yq1d6GAw7xOM",
        "colab_type": "text"
      },
      "source": [
        "- O resultado é bem melhor que o do modelo linear\n",
        "- Vamos fazer predições com o modelo não-linear para todo o espaço amostral rescalonado"
      ]
    },
    {
      "cell_type": "code",
      "metadata": {
        "id": "uXZSz3Vq7YeB",
        "colab_type": "code",
        "colab": {}
      },
      "source": [
        "axis_x = test_x[:,0]\n",
        "axis_y = test_x[:,1]\n",
        "\n",
        "xmin = axis_x.min()\n",
        "xmax = axis_x.max()\n",
        "ymin = axis_y.min()\n",
        "ymax = axis_y.max()\n",
        "\n",
        "pixel = 100\n",
        "x_array = np.arange(xmin, xmax, (xmax-xmin)/pixel)\n",
        "y_array = np.arange(ymin, ymax, (ymax-ymin)/pixel)\n",
        "\n",
        "xx, yy = np.meshgrid(x_array, y_array)\n",
        "all_points = np.c_[xx.ravel(), yy.ravel()]\n",
        "\n",
        "all_predict = model_nonlin.predict(all_points)\n",
        "all_predict = all_predict.reshape(xx.shape)"
      ],
      "execution_count": 0,
      "outputs": []
    },
    {
      "cell_type": "markdown",
      "metadata": {
        "id": "5X9aVAjOAHsj",
        "colab_type": "text"
      },
      "source": [
        "**Plot da curva de decisão**"
      ]
    },
    {
      "cell_type": "code",
      "metadata": {
        "id": "DLil-MBH9cX3",
        "colab_type": "code",
        "outputId": "b054f448-8c31-4fa6-8c4c-50c0c98a9731",
        "colab": {
          "base_uri": "https://localhost:8080/",
          "height": 282
        }
      },
      "source": [
        "import matplotlib.pyplot as plt\n",
        "plt.scatter(train_x[:,0], train_x[:,1], c=train_y['finished'], s=3)\n",
        "plt.contourf(xx, yy, all_predict, alpha=0.3)"
      ],
      "execution_count": 0,
      "outputs": [
        {
          "output_type": "execute_result",
          "data": {
            "text/plain": [
              "<matplotlib.contour.QuadContourSet at 0x7f1eef291b70>"
            ]
          },
          "metadata": {
            "tags": []
          },
          "execution_count": 33
        },
        {
          "output_type": "display_data",
          "data": {
            "image/png": "[encoded data removed]",
            "text/plain": [
              "<Figure size 432x288 with 1 Axes>"
            ]
          },
          "metadata": {
            "tags": []
          }
        }
      ]
    },
    {
      "cell_type": "markdown",
      "metadata": {
        "id": "PtfAFtUEAjSd",
        "colab_type": "text"
      },
      "source": [
        "Esse novo estimador soube reproduzir a curva de decisão vista no conjunto de dados original"
      ]
    }
  ]
}