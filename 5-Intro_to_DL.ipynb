{
  "nbformat": 4,
  "nbformat_minor": 0,
  "metadata": {
    "colab": {
      "name": "Lecture 3.1 - Intro to Deep Learning.ipynb",
      "provenance": [],
      "collapsed_sections": [],
      "toc_visible": true,
      "authorship_tag": "ABX9TyNPU5y5yH7j7ZZDWNug2obd",
      "include_colab_link": true
    },
    "kernelspec": {
      "name": "python3",
      "display_name": "Python 3"
    }
  },
  "cells": [
    {
      "cell_type": "markdown",
      "metadata": {
        "id": "view-in-github",
        "colab_type": "text"
      },
      "source": [
        "<a href=\"https://colab.research.google.com/github/andluizsouza/Machine-Learning-tutorials/blob/master/5-Intro_to_DL.ipynb\" target=\"_parent\"><img src=\"https://colab.research.google.com/assets/colab-badge.svg\" alt=\"Open In Colab\"/></a>"
      ]
    },
    {
      "cell_type": "markdown",
      "metadata": {
        "id": "HvxjyqifigwY",
        "colab_type": "text"
      },
      "source": [
        "# **Intro to Deep Learning**\n",
        "\n",
        "> Algoritmos de classificação de imagens"
      ]
    },
    {
      "cell_type": "code",
      "metadata": {
        "id": "9F4Cl9B4hvV4",
        "colab_type": "code",
        "colab": {}
      },
      "source": [
        "import tensorflow\n",
        "from tensorflow import keras"
      ],
      "execution_count": null,
      "outputs": []
    },
    {
      "cell_type": "code",
      "metadata": {
        "id": "oOZ2apucwsYG",
        "colab_type": "code",
        "colab": {}
      },
      "source": [
        "import numpy as np\n",
        "import matplotlib.pyplot as plt"
      ],
      "execution_count": null,
      "outputs": []
    },
    {
      "cell_type": "markdown",
      "metadata": {
        "id": "nZAzHZw3oJcc",
        "colab_type": "text"
      },
      "source": [
        "## **Reading the dataset**"
      ]
    },
    {
      "cell_type": "markdown",
      "metadata": {
        "id": "qqo8_SQflMj2",
        "colab_type": "text"
      },
      "source": [
        "> Importando um dataset de imagens de roupas do [Fashion MNIST](https://github.com/zalandoresearch/fashion-mnist)"
      ]
    },
    {
      "cell_type": "code",
      "metadata": {
        "id": "VfjssTHhiylw",
        "colab_type": "code",
        "colab": {
          "base_uri": "https://localhost:8080/",
          "height": 173
        },
        "outputId": "eedb1733-9e71-4dd1-f90f-773c6f7187d3"
      },
      "source": [
        "dataset = keras.datasets.fashion_mnist\n",
        "((X_train, Y_train), (X_test, Y_test)) = dataset.load_data()"
      ],
      "execution_count": null,
      "outputs": [
        {
          "output_type": "stream",
          "text": [
            "Downloading data from https://storage.googleapis.com/tensorflow/tf-keras-datasets/train-labels-idx1-ubyte.gz\n",
            "32768/29515 [=================================] - 0s 0us/step\n",
            "Downloading data from https://storage.googleapis.com/tensorflow/tf-keras-datasets/train-images-idx3-ubyte.gz\n",
            "26427392/26421880 [==============================] - 0s 0us/step\n",
            "Downloading data from https://storage.googleapis.com/tensorflow/tf-keras-datasets/t10k-labels-idx1-ubyte.gz\n",
            "8192/5148 [===============================================] - 0s 0us/step\n",
            "Downloading data from https://storage.googleapis.com/tensorflow/tf-keras-datasets/t10k-images-idx3-ubyte.gz\n",
            "4423680/4422102 [==============================] - 0s 0us/step\n"
          ],
          "name": "stdout"
        }
      ]
    },
    {
      "cell_type": "code",
      "metadata": {
        "id": "jPXPui8vi79s",
        "colab_type": "code",
        "colab": {
          "base_uri": "https://localhost:8080/",
          "height": 34
        },
        "outputId": "1e83dff0-386e-4664-9e4e-e57c8d27e30e"
      },
      "source": [
        "X_train.shape, X_test.shape"
      ],
      "execution_count": null,
      "outputs": [
        {
          "output_type": "execute_result",
          "data": {
            "text/plain": [
              "((60000, 28, 28), (10000, 28, 28))"
            ]
          },
          "metadata": {
            "tags": []
          },
          "execution_count": 4
        }
      ]
    },
    {
      "cell_type": "markdown",
      "metadata": {
        "id": "IrmfrwqFmNjt",
        "colab_type": "text"
      },
      "source": [
        "> **70k imagens de 28x28 pixels**\n",
        "\n",
        "*   60k imagens de treino\n",
        "*   10k imagens de teste\n",
        "\n",
        "\n",
        "\n"
      ]
    },
    {
      "cell_type": "markdown",
      "metadata": {
        "id": "2mWESLg9vZbQ",
        "colab_type": "text"
      },
      "source": [
        "> **Identificação das roupas**"
      ]
    },
    {
      "cell_type": "code",
      "metadata": {
        "id": "WRbz1mtHvkJi",
        "colab_type": "code",
        "colab": {
          "base_uri": "https://localhost:8080/",
          "height": 51
        },
        "outputId": "e532f256-be65-4b00-bb95-508470a574b4"
      },
      "source": [
        "Y_train, Y_test"
      ],
      "execution_count": null,
      "outputs": [
        {
          "output_type": "execute_result",
          "data": {
            "text/plain": [
              "(array([9, 0, 0, ..., 3, 0, 5], dtype=uint8),\n",
              " array([9, 2, 1, ..., 8, 1, 5], dtype=uint8))"
            ]
          },
          "metadata": {
            "tags": []
          },
          "execution_count": 5
        }
      ]
    },
    {
      "cell_type": "code",
      "metadata": {
        "id": "pxXf5ACXvXvp",
        "colab_type": "code",
        "colab": {
          "base_uri": "https://localhost:8080/",
          "height": 34
        },
        "outputId": "555020fd-b343-475f-fad9-ec4bf397680b"
      },
      "source": [
        "Y_train.shape, Y_test.shape"
      ],
      "execution_count": null,
      "outputs": [
        {
          "output_type": "execute_result",
          "data": {
            "text/plain": [
              "((60000,), (10000,))"
            ]
          },
          "metadata": {
            "tags": []
          },
          "execution_count": 6
        }
      ]
    },
    {
      "cell_type": "code",
      "metadata": {
        "id": "fkJh7Vo-vjaU",
        "colab_type": "code",
        "colab": {
          "base_uri": "https://localhost:8080/",
          "height": 51
        },
        "outputId": "afa2a1b9-3fb2-41ae-d188-5f27330148ea"
      },
      "source": [
        "print('Minimum label:', Y_train.min())\n",
        "print('Maximum label:', Y_train.max())"
      ],
      "execution_count": null,
      "outputs": [
        {
          "output_type": "stream",
          "text": [
            "Minimum label: 0\n",
            "Maximum label: 9\n"
          ],
          "name": "stdout"
        }
      ]
    },
    {
      "cell_type": "code",
      "metadata": {
        "id": "tuutgORuvt51",
        "colab_type": "code",
        "colab": {}
      },
      "source": [
        "label_names = ['T-shirt/top', 'Trouser', 'Pullover', 'Dress',\n",
        "               'Coat', 'Sandal', 'Shirt', 'Sneaker', 'Bag', 'Ankle boot']"
      ],
      "execution_count": null,
      "outputs": []
    },
    {
      "cell_type": "code",
      "metadata": {
        "id": "BY9oWXS1mKLC",
        "colab_type": "code",
        "colab": {
          "base_uri": "https://localhost:8080/",
          "height": 425
        },
        "outputId": "f4326ccf-ee2a-4ff2-ecbf-14553c202791"
      },
      "source": [
        "plt.figure(figsize=(20,10))\n",
        "for i in range(10):\n",
        "  plt.subplot(2,5,i+1)\n",
        "  plt.imshow(X_train[i])\n",
        "  plt.title(label_names[Y_train[i]])"
      ],
      "execution_count": null,
      "outputs": [
        {
          "output_type": "display_data",
          "data": {
            "image/png": "[encoded data removed]",
            "text/plain": [
              "<Figure size 1440x720 with 10 Axes>"
            ]
          },
          "metadata": {
            "tags": [],
            "needs_background": "light"
          }
        }
      ]
    },
    {
      "cell_type": "markdown",
      "metadata": {
        "id": "OA5vok0OApdf",
        "colab_type": "text"
      },
      "source": [
        "## **Modeling**"
      ]
    },
    {
      "cell_type": "markdown",
      "metadata": {
        "id": "34lHhRYFzJMt",
        "colab_type": "text"
      },
      "source": [
        "> **Layer zero: input figures**\n",
        "* Convertendo os arrays de imagem (28,28) para arrays flat (1, 28*28)\n",
        "\n",
        "> **Layer one: dense connections**\n",
        "* A próxima camada deve ser mais densa e conectar com todos os pontos da camada de entrada\n",
        "* ReLu: funções não-lineares de classificação\n",
        "\n",
        "> **Layer two: output classification**\n",
        "* Softmax: array de probabilidades de acordo com as categorias para todos os inputs"
      ]
    },
    {
      "cell_type": "code",
      "metadata": {
        "id": "fw3fArNFzM0A",
        "colab_type": "code",
        "colab": {}
      },
      "source": [
        "model = keras.Sequential([\n",
        "                          keras.layers.Flatten(input_shape=(28,28)),\n",
        "                          keras.layers.Dense(256, activation=tensorflow.nn.relu),\n",
        "                          keras.layers.Dense(10, activation=tensorflow.nn.softmax)\n",
        "                          ])"
      ],
      "execution_count": null,
      "outputs": []
    },
    {
      "cell_type": "markdown",
      "metadata": {
        "id": "1kwlYfxMJwpX",
        "colab_type": "text"
      },
      "source": [
        "> Compilando o modelo\n",
        "* `optimizer='adam'`: multicategorical labels\n",
        "* `loss=sparse_categorical_crossentropy`: perda de informação"
      ]
    },
    {
      "cell_type": "code",
      "metadata": {
        "id": "vn6Vx5uQAl3S",
        "colab_type": "code",
        "colab": {}
      },
      "source": [
        "model.compile(optimizer='adam', \n",
        "              loss='sparse_categorical_crossentropy')"
      ],
      "execution_count": null,
      "outputs": []
    },
    {
      "cell_type": "code",
      "metadata": {
        "id": "JV4lGEeS0_dB",
        "colab_type": "code",
        "colab": {
          "base_uri": "https://localhost:8080/",
          "height": 51
        },
        "outputId": "5b417dc6-a248-44f6-9596-4b29ec16e750"
      },
      "source": [
        "model.fit(X_train, Y_train)"
      ],
      "execution_count": null,
      "outputs": [
        {
          "output_type": "stream",
          "text": [
            "1875/1875 [==============================] - 5s 3ms/step - loss: 4.0931\n"
          ],
          "name": "stdout"
        },
        {
          "output_type": "execute_result",
          "data": {
            "text/plain": [
              "<tensorflow.python.keras.callbacks.History at 0x7f840d749a20>"
            ]
          },
          "metadata": {
            "tags": []
          },
          "execution_count": 12
        }
      ]
    },
    {
      "cell_type": "markdown",
      "metadata": {
        "id": "Jc69BIgrMTcX",
        "colab_type": "text"
      },
      "source": [
        "* **Como diminuir a perda?**\n",
        "> Normalização dos pixels"
      ]
    },
    {
      "cell_type": "code",
      "metadata": {
        "id": "dyyFn24tASiu",
        "colab_type": "code",
        "colab": {
          "base_uri": "https://localhost:8080/",
          "height": 282
        },
        "outputId": "fa7c0622-42ca-4075-bdaf-e2081df8abda"
      },
      "source": [
        "plt.imshow(X_train[0])\n",
        "plt.colorbar()"
      ],
      "execution_count": null,
      "outputs": [
        {
          "output_type": "execute_result",
          "data": {
            "text/plain": [
              "<matplotlib.colorbar.Colorbar at 0x7f840a8e7da0>"
            ]
          },
          "metadata": {
            "tags": []
          },
          "execution_count": 13
        },
        {
          "output_type": "display_data",
          "data": {
            "image/png": "[encoded data removed]",
            "text/plain": [
              "<Figure size 432x288 with 2 Axes>"
            ]
          },
          "metadata": {
            "tags": [],
            "needs_background": "light"
          }
        }
      ]
    },
    {
      "cell_type": "code",
      "metadata": {
        "id": "1wQ_w0uoLu7l",
        "colab_type": "code",
        "colab": {
          "base_uri": "https://localhost:8080/",
          "height": 51
        },
        "outputId": "5de547a4-04ca-4a21-dc94-b658e8b8b6d2"
      },
      "source": [
        "X_train = X_train/255.\n",
        "model.fit(X_train, Y_train)"
      ],
      "execution_count": null,
      "outputs": [
        {
          "output_type": "stream",
          "text": [
            "1875/1875 [==============================] - 5s 3ms/step - loss: 0.8922\n"
          ],
          "name": "stdout"
        },
        {
          "output_type": "execute_result",
          "data": {
            "text/plain": [
              "<tensorflow.python.keras.callbacks.History at 0x7f840a8b3630>"
            ]
          },
          "metadata": {
            "tags": []
          },
          "execution_count": 14
        }
      ]
    },
    {
      "cell_type": "markdown",
      "metadata": {
        "id": "FQmiD75ANAN9",
        "colab_type": "text"
      },
      "source": [
        "**A perda de informação pela modelagem foi de 4.4554 para 0.8961**"
      ]
    },
    {
      "cell_type": "markdown",
      "metadata": {
        "id": "0qXATXLcOPeQ",
        "colab_type": "text"
      },
      "source": [
        "e se adicionarmos mais uma camada?\n",
        "\n"
      ]
    },
    {
      "cell_type": "code",
      "metadata": {
        "id": "aCXHivAFM-uJ",
        "colab_type": "code",
        "colab": {}
      },
      "source": [
        "model = keras.Sequential([\n",
        "                          keras.layers.Flatten(input_shape=(28,28)),\n",
        "                          keras.layers.Dense(256, activation=tensorflow.nn.relu),\n",
        "                          keras.layers.Dense(128, activation=tensorflow.nn.relu),\n",
        "                          keras.layers.Dense(10, activation=tensorflow.nn.softmax)\n",
        "                          ])"
      ],
      "execution_count": null,
      "outputs": []
    },
    {
      "cell_type": "code",
      "metadata": {
        "id": "Lfd60NYyMyNe",
        "colab_type": "code",
        "colab": {
          "base_uri": "https://localhost:8080/",
          "height": 51
        },
        "outputId": "33c9c9ed-ec96-456c-b823-06f1c3236021"
      },
      "source": [
        "model.compile(optimizer='adam', \n",
        "              loss='sparse_categorical_crossentropy')\n",
        "model.fit(X_train, Y_train)"
      ],
      "execution_count": null,
      "outputs": [
        {
          "output_type": "stream",
          "text": [
            "1875/1875 [==============================] - 6s 3ms/step - loss: 0.4751\n"
          ],
          "name": "stdout"
        },
        {
          "output_type": "execute_result",
          "data": {
            "text/plain": [
              "<tensorflow.python.keras.callbacks.History at 0x7f840a785390>"
            ]
          },
          "metadata": {
            "tags": []
          },
          "execution_count": 16
        }
      ]
    },
    {
      "cell_type": "markdown",
      "metadata": {
        "id": "jHjD6LmmPwcf",
        "colab_type": "text"
      },
      "source": [
        "Aumentar o número de camadas internas não melhora necessariamente o índice de perda"
      ]
    },
    {
      "cell_type": "markdown",
      "metadata": {
        "id": "xM5eqAWyGtdO",
        "colab_type": "text"
      },
      "source": [
        "**Número de treinamentos**\n",
        "> devemos treinar o nosso modelo mais de uma vez pra que tenhamos resultados melhores"
      ]
    },
    {
      "cell_type": "code",
      "metadata": {
        "id": "YIb41llPWPnZ",
        "colab_type": "code",
        "colab": {
          "base_uri": "https://localhost:8080/",
          "height": 204
        },
        "outputId": "a03f89fb-6619-4097-ffa4-5285e52deeee"
      },
      "source": [
        "model.fit(X_train, Y_train, epochs=5)"
      ],
      "execution_count": null,
      "outputs": [
        {
          "output_type": "stream",
          "text": [
            "Epoch 1/5\n",
            "1875/1875 [==============================] - 6s 3ms/step - loss: 0.3591\n",
            "Epoch 2/5\n",
            "1875/1875 [==============================] - 6s 3ms/step - loss: 0.3239\n",
            "Epoch 3/5\n",
            "1875/1875 [==============================] - 6s 3ms/step - loss: 0.3004\n",
            "Epoch 4/5\n",
            "1875/1875 [==============================] - 6s 3ms/step - loss: 0.2806\n",
            "Epoch 5/5\n",
            "1875/1875 [==============================] - 6s 3ms/step - loss: 0.2672\n"
          ],
          "name": "stdout"
        },
        {
          "output_type": "execute_result",
          "data": {
            "text/plain": [
              "<tensorflow.python.keras.callbacks.History at 0x7f840a723e48>"
            ]
          },
          "metadata": {
            "tags": []
          },
          "execution_count": 17
        }
      ]
    },
    {
      "cell_type": "markdown",
      "metadata": {
        "id": "1ivreX7hHt5K",
        "colab_type": "text"
      },
      "source": [
        "* O índice de perda está diminuindo conforme aumentamos o treinamento.\n",
        "* Mas como saber quanto o modelo está acertando? Adicionando uma métrica!"
      ]
    },
    {
      "cell_type": "code",
      "metadata": {
        "id": "TlDs4QUxHI5m",
        "colab_type": "code",
        "colab": {
          "base_uri": "https://localhost:8080/",
          "height": 204
        },
        "outputId": "8c6030fc-2b88-4a80-88cc-2f4f857947f8"
      },
      "source": [
        "model.compile(optimizer='adam', \n",
        "              loss='sparse_categorical_crossentropy',\n",
        "              metrics = ['accuracy'])\n",
        "model.fit(X_train, Y_train, epochs=5)"
      ],
      "execution_count": null,
      "outputs": [
        {
          "output_type": "stream",
          "text": [
            "Epoch 1/5\n",
            "1875/1875 [==============================] - 6s 3ms/step - loss: 0.2584 - accuracy: 0.9028\n",
            "Epoch 2/5\n",
            "1875/1875 [==============================] - 6s 3ms/step - loss: 0.2456 - accuracy: 0.9077\n",
            "Epoch 3/5\n",
            "1875/1875 [==============================] - 6s 3ms/step - loss: 0.2328 - accuracy: 0.9120\n",
            "Epoch 4/5\n",
            "1875/1875 [==============================] - 7s 3ms/step - loss: 0.2254 - accuracy: 0.9139\n",
            "Epoch 5/5\n",
            "1875/1875 [==============================] - 7s 4ms/step - loss: 0.2142 - accuracy: 0.9187\n"
          ],
          "name": "stdout"
        },
        {
          "output_type": "execute_result",
          "data": {
            "text/plain": [
              "<tensorflow.python.keras.callbacks.History at 0x7f8409ebf240>"
            ]
          },
          "metadata": {
            "tags": []
          },
          "execution_count": 18
        }
      ]
    },
    {
      "cell_type": "markdown",
      "metadata": {
        "id": "RbOJgClPJ5w2",
        "colab_type": "text"
      },
      "source": [
        "**A acurácia do modelo ao longo do treinamento**"
      ]
    },
    {
      "cell_type": "markdown",
      "metadata": {
        "id": "wUrxbz0SKwUq",
        "colab_type": "text"
      },
      "source": [
        "## **Prediction**"
      ]
    },
    {
      "cell_type": "code",
      "metadata": {
        "id": "26m-lwRVK923",
        "colab_type": "code",
        "colab": {
          "base_uri": "https://localhost:8080/",
          "height": 136
        },
        "outputId": "a8f70f73-df03-4e34-d685-a797a4e3f4c9"
      },
      "source": [
        "Y_pred = model.predict(X_test)\n",
        "print(Y_pred)"
      ],
      "execution_count": null,
      "outputs": [
        {
          "output_type": "stream",
          "text": [
            "[[0. 0. 0. ... 0. 0. 1.]\n",
            " [0. 0. 1. ... 0. 0. 0.]\n",
            " [0. 1. 0. ... 0. 0. 0.]\n",
            " ...\n",
            " [0. 0. 0. ... 0. 1. 0.]\n",
            " [0. 1. 0. ... 0. 0. 0.]\n",
            " [0. 0. 0. ... 0. 0. 0.]]\n"
          ],
          "name": "stdout"
        }
      ]
    },
    {
      "cell_type": "code",
      "metadata": {
        "id": "RpeThwopLFRm",
        "colab_type": "code",
        "colab": {
          "base_uri": "https://localhost:8080/",
          "height": 34
        },
        "outputId": "5c5573fd-a63d-43f9-f663-10ebe9e86c05"
      },
      "source": [
        "Y_pred = np.argmax(Y_pred, axis=1)\n",
        "Y_diff = Y_pred-Y_test\n",
        "score = 1 - Y_diff.sum()/len(Y_diff)\n",
        "print(\"Accuracy score:\", score)"
      ],
      "execution_count": null,
      "outputs": [
        {
          "output_type": "stream",
          "text": [
            "Accuracy score: 0.8654\n"
          ],
          "name": "stdout"
        }
      ]
    },
    {
      "cell_type": "code",
      "metadata": {
        "id": "BaqWWnjbLXkJ",
        "colab_type": "code",
        "colab": {
          "base_uri": "https://localhost:8080/",
          "height": 34
        },
        "outputId": "ecc0b48a-a911-4378-8f11-29c24c1243d3"
      },
      "source": [
        "loss, score = model.evaluate(X_test, Y_test)"
      ],
      "execution_count": null,
      "outputs": [
        {
          "output_type": "stream",
          "text": [
            "313/313 [==============================] - 1s 2ms/step - loss: 67.1593 - accuracy: 0.8527\n"
          ],
          "name": "stdout"
        }
      ]
    },
    {
      "cell_type": "markdown",
      "metadata": {
        "id": "wOfjt2AMOy54",
        "colab_type": "text"
      },
      "source": [
        "## **Validation**"
      ]
    },
    {
      "cell_type": "markdown",
      "metadata": {
        "id": "9HdCN52WbeSL",
        "colab_type": "text"
      },
      "source": [
        "* Dividindo os dados para treino e validação"
      ]
    },
    {
      "cell_type": "code",
      "metadata": {
        "id": "LCx0VTYTNSf5",
        "colab_type": "code",
        "colab": {
          "base_uri": "https://localhost:8080/",
          "height": 377
        },
        "outputId": "0b920875-4770-43f5-9b3b-e718c12d4432"
      },
      "source": [
        "info = model.fit(X_train, Y_train, epochs=10, validation_split=0.2)"
      ],
      "execution_count": null,
      "outputs": [
        {
          "output_type": "stream",
          "text": [
            "Epoch 1/10\n",
            "1500/1500 [==============================] - 6s 4ms/step - loss: 0.2076 - accuracy: 0.9208 - val_loss: 0.2087 - val_accuracy: 0.9180\n",
            "Epoch 2/10\n",
            "1500/1500 [==============================] - 6s 4ms/step - loss: 0.1960 - accuracy: 0.9255 - val_loss: 0.2128 - val_accuracy: 0.9190\n",
            "Epoch 3/10\n",
            "1500/1500 [==============================] - 6s 4ms/step - loss: 0.1926 - accuracy: 0.9263 - val_loss: 0.2157 - val_accuracy: 0.9188\n",
            "Epoch 4/10\n",
            "1500/1500 [==============================] - 6s 4ms/step - loss: 0.1830 - accuracy: 0.9314 - val_loss: 0.2259 - val_accuracy: 0.9162\n",
            "Epoch 5/10\n",
            "1500/1500 [==============================] - 6s 4ms/step - loss: 0.1785 - accuracy: 0.9328 - val_loss: 0.2155 - val_accuracy: 0.9182\n",
            "Epoch 6/10\n",
            "1500/1500 [==============================] - 6s 4ms/step - loss: 0.1729 - accuracy: 0.9347 - val_loss: 0.2439 - val_accuracy: 0.9081\n",
            "Epoch 7/10\n",
            "1500/1500 [==============================] - 6s 4ms/step - loss: 0.1662 - accuracy: 0.9365 - val_loss: 0.2318 - val_accuracy: 0.9155\n",
            "Epoch 8/10\n",
            "1500/1500 [==============================] - 6s 4ms/step - loss: 0.1622 - accuracy: 0.9386 - val_loss: 0.2516 - val_accuracy: 0.9177\n",
            "Epoch 9/10\n",
            "1500/1500 [==============================] - 6s 4ms/step - loss: 0.1564 - accuracy: 0.9401 - val_loss: 0.2406 - val_accuracy: 0.9114\n",
            "Epoch 10/10\n",
            "1500/1500 [==============================] - 5s 4ms/step - loss: 0.1531 - accuracy: 0.9418 - val_loss: 0.2432 - val_accuracy: 0.9135\n"
          ],
          "name": "stdout"
        }
      ]
    },
    {
      "cell_type": "code",
      "metadata": {
        "id": "tbTVdfvJbTIo",
        "colab_type": "code",
        "colab": {
          "base_uri": "https://localhost:8080/",
          "height": 697
        },
        "outputId": "da5bb3ce-215d-4fb9-8e1a-8ceddac7d712"
      },
      "source": [
        "info.history"
      ],
      "execution_count": null,
      "outputs": [
        {
          "output_type": "execute_result",
          "data": {
            "text/plain": [
              "{'accuracy': [0.9208124876022339,\n",
              "  0.9254999756813049,\n",
              "  0.9263125061988831,\n",
              "  0.9314166903495789,\n",
              "  0.9328333139419556,\n",
              "  0.9347083568572998,\n",
              "  0.9365000128746033,\n",
              "  0.9385833144187927,\n",
              "  0.9401249885559082,\n",
              "  0.9418125152587891],\n",
              " 'loss': [0.20757922530174255,\n",
              "  0.19603298604488373,\n",
              "  0.19258522987365723,\n",
              "  0.1829768270254135,\n",
              "  0.17849735915660858,\n",
              "  0.17293110489845276,\n",
              "  0.1662469059228897,\n",
              "  0.16222086548805237,\n",
              "  0.1564224511384964,\n",
              "  0.15312165021896362],\n",
              " 'val_accuracy': [0.9179999828338623,\n",
              "  0.9190000295639038,\n",
              "  0.918833315372467,\n",
              "  0.9162499904632568,\n",
              "  0.9181666374206543,\n",
              "  0.9080833196640015,\n",
              "  0.9154999852180481,\n",
              "  0.9176666736602783,\n",
              "  0.9114166498184204,\n",
              "  0.9135000109672546],\n",
              " 'val_loss': [0.2086954563856125,\n",
              "  0.21283811330795288,\n",
              "  0.21574169397354126,\n",
              "  0.22585926949977875,\n",
              "  0.21545177698135376,\n",
              "  0.2438763827085495,\n",
              "  0.23180629312992096,\n",
              "  0.2516424059867859,\n",
              "  0.24058149755001068,\n",
              "  0.24322029948234558]}"
            ]
          },
          "metadata": {
            "tags": []
          },
          "execution_count": 23
        }
      ]
    },
    {
      "cell_type": "code",
      "metadata": {
        "id": "HTRS0VeOc9_6",
        "colab_type": "code",
        "colab": {
          "base_uri": "https://localhost:8080/",
          "height": 312
        },
        "outputId": "5d757f65-21ba-46c5-e1ee-4e0fdcbcad95"
      },
      "source": [
        "plt.plot(info.history['accuracy'])\n",
        "plt.plot(info.history['val_accuracy'])\n",
        "plt.legend(['Treino', 'Validação'])\n",
        "plt.title('Accuracy per epochs')\n",
        "plt.xlabel('Epochs')\n",
        "plt.ylabel('Accuracy')"
      ],
      "execution_count": null,
      "outputs": [
        {
          "output_type": "execute_result",
          "data": {
            "text/plain": [
              "Text(0, 0.5, 'Accuracy')"
            ]
          },
          "metadata": {
            "tags": []
          },
          "execution_count": 24
        },
        {
          "output_type": "display_data",
          "data": {
            "image/png": "[encoded data removed]",
            "text/plain": [
              "<Figure size 432x288 with 1 Axes>"
            ]
          },
          "metadata": {
            "tags": [],
            "needs_background": "light"
          }
        }
      ]
    },
    {
      "cell_type": "code",
      "metadata": {
        "id": "9Su3RrPxdPOr",
        "colab_type": "code",
        "colab": {
          "base_uri": "https://localhost:8080/",
          "height": 312
        },
        "outputId": "ce8bc2e5-7e11-4cc9-8e13-5742384c0098"
      },
      "source": [
        "plt.plot(info.history['loss'])\n",
        "plt.plot(info.history['val_loss'])\n",
        "plt.legend(['Treino', 'Validação'])\n",
        "plt.title('Loss per epochs')\n",
        "plt.xlabel('Epochs')\n",
        "plt.ylabel('Loss')"
      ],
      "execution_count": null,
      "outputs": [
        {
          "output_type": "execute_result",
          "data": {
            "text/plain": [
              "Text(0, 0.5, 'Loss')"
            ]
          },
          "metadata": {
            "tags": []
          },
          "execution_count": 25
        },
        {
          "output_type": "display_data",
          "data": {
            "image/png": "[encoded data removed]",
            "text/plain": [
              "<Figure size 432x288 with 1 Axes>"
            ]
          },
          "metadata": {
            "tags": [],
            "needs_background": "light"
          }
        }
      ]
    },
    {
      "cell_type": "markdown",
      "metadata": {
        "id": "14DzlckQljiU",
        "colab_type": "text"
      },
      "source": [
        "## **Under/Over-fitting**"
      ]
    },
    {
      "cell_type": "markdown",
      "metadata": {
        "id": "JF5gn2wygy8s",
        "colab_type": "text"
      },
      "source": [
        "**CUIDADO**: under and overfitting sobre os dados\n",
        "* A acurácia e a perda de treino e validação devem ser iguais e estacionárias"
      ]
    },
    {
      "cell_type": "markdown",
      "metadata": {
        "id": "Bblw4fKUjYex",
        "colab_type": "text"
      },
      "source": [
        "**Dropout**: descartando/congelando algumas redes entre as épocas para minimizar os efeitos de aleatoriadade"
      ]
    },
    {
      "cell_type": "code",
      "metadata": {
        "id": "b4jclbmSe7jg",
        "colab_type": "code",
        "colab": {}
      },
      "source": [
        "model = keras.Sequential([\n",
        "                          keras.layers.Flatten(input_shape=(28,28)),\n",
        "                          keras.layers.Dense(256, activation=tensorflow.nn.relu),\n",
        "                          keras.layers.Dropout(0.2),\n",
        "                          keras.layers.Dense(10, activation=tensorflow.nn.softmax)\n",
        "                          ])"
      ],
      "execution_count": null,
      "outputs": []
    },
    {
      "cell_type": "code",
      "metadata": {
        "id": "MytBPn2kiuya",
        "colab_type": "code",
        "colab": {
          "base_uri": "https://localhost:8080/",
          "height": 377
        },
        "outputId": "443510a4-a8d0-4353-d808-5e43710802ea"
      },
      "source": [
        "model.compile(optimizer='adam', \n",
        "              loss='sparse_categorical_crossentropy',\n",
        "              metrics=['accuracy'])\n",
        "info = model.fit(X_train, Y_train, epochs=10, validation_split=0.2)"
      ],
      "execution_count": null,
      "outputs": [
        {
          "output_type": "stream",
          "text": [
            "Epoch 1/10\n",
            "1500/1500 [==============================] - 5s 3ms/step - loss: 0.5264 - accuracy: 0.8130 - val_loss: 0.4015 - val_accuracy: 0.8557\n",
            "Epoch 2/10\n",
            "1500/1500 [==============================] - 5s 3ms/step - loss: 0.3989 - accuracy: 0.8540 - val_loss: 0.3710 - val_accuracy: 0.8632\n",
            "Epoch 3/10\n",
            "1500/1500 [==============================] - 5s 3ms/step - loss: 0.3604 - accuracy: 0.8692 - val_loss: 0.3507 - val_accuracy: 0.8750\n",
            "Epoch 4/10\n",
            "1500/1500 [==============================] - 5s 3ms/step - loss: 0.3398 - accuracy: 0.8740 - val_loss: 0.3494 - val_accuracy: 0.8732\n",
            "Epoch 5/10\n",
            "1500/1500 [==============================] - 5s 3ms/step - loss: 0.3229 - accuracy: 0.8817 - val_loss: 0.3355 - val_accuracy: 0.8815\n",
            "Epoch 6/10\n",
            "1500/1500 [==============================] - 5s 3ms/step - loss: 0.3102 - accuracy: 0.8848 - val_loss: 0.3346 - val_accuracy: 0.8777\n",
            "Epoch 7/10\n",
            "1500/1500 [==============================] - 4s 3ms/step - loss: 0.2962 - accuracy: 0.8880 - val_loss: 0.3246 - val_accuracy: 0.8830\n",
            "Epoch 8/10\n",
            "1500/1500 [==============================] - 5s 3ms/step - loss: 0.2878 - accuracy: 0.8922 - val_loss: 0.3190 - val_accuracy: 0.8858\n",
            "Epoch 9/10\n",
            "1500/1500 [==============================] - 5s 3ms/step - loss: 0.2777 - accuracy: 0.8955 - val_loss: 0.3267 - val_accuracy: 0.8877\n",
            "Epoch 10/10\n",
            "1500/1500 [==============================] - 5s 3ms/step - loss: 0.2719 - accuracy: 0.8993 - val_loss: 0.3155 - val_accuracy: 0.8870\n"
          ],
          "name": "stdout"
        }
      ]
    },
    {
      "cell_type": "code",
      "metadata": {
        "id": "jdT_tZ7Gi6fr",
        "colab_type": "code",
        "colab": {
          "base_uri": "https://localhost:8080/",
          "height": 312
        },
        "outputId": "b8b97462-60d8-4437-93a8-900862bcf7fb"
      },
      "source": [
        "plt.plot(info.history['accuracy'])\n",
        "plt.plot(info.history['val_accuracy'])\n",
        "plt.legend(['Treino', 'Validação'])\n",
        "plt.title('Accuracy per epochs')\n",
        "plt.xlabel('Epochs')\n",
        "plt.ylabel('Accuracy')"
      ],
      "execution_count": null,
      "outputs": [
        {
          "output_type": "execute_result",
          "data": {
            "text/plain": [
              "Text(0, 0.5, 'Accuracy')"
            ]
          },
          "metadata": {
            "tags": []
          },
          "execution_count": 28
        },
        {
          "output_type": "display_data",
          "data": {
            "image/png": "[encoded data removed]",
            "text/plain": [
              "<Figure size 432x288 with 1 Axes>"
            ]
          },
          "metadata": {
            "tags": [],
            "needs_background": "light"
          }
        }
      ]
    },
    {
      "cell_type": "code",
      "metadata": {
        "id": "6Ur1OZqkjuMT",
        "colab_type": "code",
        "colab": {
          "base_uri": "https://localhost:8080/",
          "height": 312
        },
        "outputId": "82b600ac-98b6-412f-abf6-0da7f8f901ba"
      },
      "source": [
        "plt.plot(info.history['loss'])\n",
        "plt.plot(info.history['val_loss'])\n",
        "plt.legend(['Treino', 'Validação'])\n",
        "plt.title('Loss per epochs')\n",
        "plt.xlabel('Epochs')\n",
        "plt.ylabel('Loss')"
      ],
      "execution_count": null,
      "outputs": [
        {
          "output_type": "execute_result",
          "data": {
            "text/plain": [
              "Text(0, 0.5, 'Loss')"
            ]
          },
          "metadata": {
            "tags": []
          },
          "execution_count": 29
        },
        {
          "output_type": "display_data",
          "data": {
            "image/png": "[encoded data removed]",
            "text/plain": [
              "<Figure size 432x288 with 1 Axes>"
            ]
          },
          "metadata": {
            "tags": [],
            "needs_background": "light"
          }
        }
      ]
    },
    {
      "cell_type": "markdown",
      "metadata": {
        "id": "iQmeFkjrkWFs",
        "colab_type": "text"
      },
      "source": [
        "Agora os resultados estão um pouco mais estáveis"
      ]
    },
    {
      "cell_type": "markdown",
      "metadata": {
        "id": "gbN82OBnlrB7",
        "colab_type": "text"
      },
      "source": [
        "## **Saving the model**"
      ]
    },
    {
      "cell_type": "code",
      "metadata": {
        "id": "wBJYTjYwjxut",
        "colab_type": "code",
        "colab": {}
      },
      "source": [
        "from tensorflow.keras.models import load_model\n",
        "model.save('model.h5')"
      ],
      "execution_count": null,
      "outputs": []
    },
    {
      "cell_type": "code",
      "metadata": {
        "id": "1D-kCroHlYUY",
        "colab_type": "code",
        "colab": {}
      },
      "source": [
        "model_saved = load_model('model.h5')"
      ],
      "execution_count": null,
      "outputs": []
    },
    {
      "cell_type": "markdown",
      "metadata": {
        "id": "l98fKu1ekQ-D",
        "colab_type": "text"
      },
      "source": [
        ""
      ]
    }
  ]
}